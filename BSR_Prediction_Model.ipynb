{
  "cells": [
    {
      "cell_type": "markdown",
      "metadata": {
        "id": "view-in-github",
        "colab_type": "text"
      },
      "source": [
        "<a href=\"https://colab.research.google.com/github/trobinson9/ApolloFinalYearProject/blob/main/BSR_Prediction_Model.ipynb\" target=\"_parent\"><img src=\"https://colab.research.google.com/assets/colab-badge.svg\" alt=\"Open In Colab\"/></a>"
      ]
    },
    {
      "cell_type": "markdown",
      "source": [
        "Import Required Modules"
      ],
      "metadata": {
        "id": "IeCrcYdkb5rP"
      }
    },
    {
      "cell_type": "code",
      "execution_count": null,
      "metadata": {
        "id": "62vOhA8csspv",
        "colab": {
          "base_uri": "https://localhost:8080/"
        },
        "outputId": "41a5f5fe-4329-4d2a-f756-a17b81cf91d6"
      },
      "outputs": [
        {
          "output_type": "stream",
          "name": "stdout",
          "text": [
            "Looking in indexes: https://pypi.org/simple, https://us-python.pkg.dev/colab-wheels/public/simple/\n",
            "Requirement already satisfied: shap in /usr/local/lib/python3.9/dist-packages (0.41.0)\n",
            "Requirement already satisfied: numba in /usr/local/lib/python3.9/dist-packages (from shap) (0.56.4)\n",
            "Requirement already satisfied: numpy in /usr/local/lib/python3.9/dist-packages (from shap) (1.22.4)\n",
            "Requirement already satisfied: pandas in /usr/local/lib/python3.9/dist-packages (from shap) (1.5.3)\n",
            "Requirement already satisfied: tqdm>4.25.0 in /usr/local/lib/python3.9/dist-packages (from shap) (4.65.0)\n",
            "Requirement already satisfied: cloudpickle in /usr/local/lib/python3.9/dist-packages (from shap) (2.2.1)\n",
            "Requirement already satisfied: scikit-learn in /usr/local/lib/python3.9/dist-packages (from shap) (1.2.2)\n",
            "Requirement already satisfied: scipy in /usr/local/lib/python3.9/dist-packages (from shap) (1.10.1)\n",
            "Requirement already satisfied: packaging>20.9 in /usr/local/lib/python3.9/dist-packages (from shap) (23.1)\n",
            "Requirement already satisfied: slicer==0.0.7 in /usr/local/lib/python3.9/dist-packages (from shap) (0.0.7)\n",
            "Requirement already satisfied: setuptools in /usr/local/lib/python3.9/dist-packages (from numba->shap) (67.6.1)\n",
            "Requirement already satisfied: llvmlite<0.40,>=0.39.0dev0 in /usr/local/lib/python3.9/dist-packages (from numba->shap) (0.39.1)\n",
            "Requirement already satisfied: python-dateutil>=2.8.1 in /usr/local/lib/python3.9/dist-packages (from pandas->shap) (2.8.2)\n",
            "Requirement already satisfied: pytz>=2020.1 in /usr/local/lib/python3.9/dist-packages (from pandas->shap) (2022.7.1)\n",
            "Requirement already satisfied: threadpoolctl>=2.0.0 in /usr/local/lib/python3.9/dist-packages (from scikit-learn->shap) (3.1.0)\n",
            "Requirement already satisfied: joblib>=1.1.1 in /usr/local/lib/python3.9/dist-packages (from scikit-learn->shap) (1.2.0)\n",
            "Requirement already satisfied: six>=1.5 in /usr/local/lib/python3.9/dist-packages (from python-dateutil>=2.8.1->pandas->shap) (1.16.0)\n"
          ]
        }
      ],
      "source": [
        "! pip install shap\n",
        "import numpy as np\n",
        "import pandas as pd\n",
        "import plotly.express as px\n",
        "import matplotlib.pyplot as plt\n",
        "import lightgbm as lgb\n",
        "import shap\n",
        "import math\n",
        "import itertools\n",
        "from numpy.core.multiarray import zeros\n",
        "%matplotlib inline\n",
        "\n",
        "from pprint import pprint\n",
        "from IPython.display import display \n",
        "from sklearn import model_selection\n",
        "from sklearn.preprocessing import LabelEncoder\n",
        "from sklearn.model_selection import train_test_split\n",
        "from sklearn.metrics import confusion_matrix\n",
        "# from sklearn.metrics import plot_confusion_matrix\n",
        "from sklearn.metrics import precision_recall_fscore_support\n",
        "from sklearn.metrics import classification_report, confusion_matrix, accuracy_score, recall_score, roc_auc_score, precision_score, log_loss"
      ]
    },
    {
      "cell_type": "code",
      "execution_count": null,
      "metadata": {
        "id": "AYZxbgcfuNqj",
        "colab": {
          "base_uri": "https://localhost:8080/"
        },
        "outputId": "900fff32-004b-4750-bea6-2aedb8c02245"
      },
      "outputs": [
        {
          "output_type": "stream",
          "name": "stdout",
          "text": [
            "Drive already mounted at /content/drive/; to attempt to forcibly remount, call drive.mount(\"/content/drive/\", force_remount=True).\n"
          ]
        }
      ],
      "source": [
        "from google.colab import drive  # mount drive for data\n",
        "drive.mount('/content/drive/')"
      ]
    },
    {
      "cell_type": "code",
      "execution_count": null,
      "metadata": {
        "colab": {
          "base_uri": "https://localhost:8080/",
          "height": 537
        },
        "id": "r8dQg3vHuSMr",
        "outputId": "a8e149ab-30ab-4530-8206-3b4033e77adc"
      },
      "outputs": [
        {
          "output_type": "execute_result",
          "data": {
            "text/plain": [
              "             ASIN  n Videos  Base Price  Rating  Description Score  \\\n",
              "0      B09HSH8YKT       0.0        1.81     NaN           4.703251   \n",
              "1      B094QXG23D       0.0        9.39     NaN           4.512032   \n",
              "2      B09KH39RHV       0.0        4.62     NaN           4.347838   \n",
              "3      B07BFWGDZG       0.0        5.99     5.0           4.316766   \n",
              "4      B0BQVBY7D1       0.0        4.09     NaN           4.675052   \n",
              "...           ...       ...         ...     ...                ...   \n",
              "12795  B09T5RN7T9       0.0        9.49     NaN           4.190913   \n",
              "12796  B09ZPC73CP       0.0      186.88     NaN           4.842924   \n",
              "12797  B0B7X2VMKN       0.0       39.86     NaN           4.044750   \n",
              "12798  B09GB9S91N       0.0       18.67     NaN           3.836184   \n",
              "12799  B092VZ6K4H       0.0       28.99     NaN           4.358564   \n",
              "\n",
              "       Description Bin  Department Rank  Sub-Department Rank      Department  \\\n",
              "0                  6.0              NaN                  NaN             NaN   \n",
              "1                  5.0              NaN                  NaN             NaN   \n",
              "2                  4.0              NaN                  NaN             NaN   \n",
              "3                  4.0        1204181.0               1864.0  home & kitchen   \n",
              "4                  6.0              NaN                  NaN             NaN   \n",
              "...                ...              ...                  ...             ...   \n",
              "12795              3.0              NaN                  NaN             NaN   \n",
              "12796              6.0              NaN                  NaN             NaN   \n",
              "12797              2.0              NaN                  NaN             NaN   \n",
              "12798              2.0              NaN                  NaN             NaN   \n",
              "12799              4.0              NaN                  NaN             NaN   \n",
              "\n",
              "      Sub-Department  ... Mean: An image showcasing a product's effectiveness  \\\n",
              "0                NaN  ...                                           0.230321    \n",
              "1                NaN  ...                                           0.231551    \n",
              "2                NaN  ...                                           0.219192    \n",
              "3           tea pots  ...                                           0.229986    \n",
              "4                NaN  ...                                           0.218992    \n",
              "...              ...  ...                                                ...    \n",
              "12795            NaN  ...                                           0.245330    \n",
              "12796            NaN  ...                                           0.217521    \n",
              "12797            NaN  ...                                           0.219716    \n",
              "12798            NaN  ...                                           0.240384    \n",
              "12799            NaN  ...                                           0.245095    \n",
              "\n",
              "      Max: An image showcasing a product's effectiveness  \\\n",
              "0                                               0.262897   \n",
              "1                                               0.259788   \n",
              "2                                               0.262897   \n",
              "3                                               0.262897   \n",
              "4                                               0.262897   \n",
              "...                                                  ...   \n",
              "12795                                           0.257943   \n",
              "12796                                           0.245057   \n",
              "12797                                           0.228513   \n",
              "12798                                           0.250679   \n",
              "12799                                           0.258638   \n",
              "\n",
              "       Min: An image showcasing a product's effectiveness  Mean: Useful  \\\n",
              "0                                               0.209633       0.221413   \n",
              "1                                               0.214299       0.217060   \n",
              "2                                               0.202536       0.201708   \n",
              "3                                               0.202992       0.213576   \n",
              "4                                               0.187567       0.207581   \n",
              "...                                                  ...            ...   \n",
              "12795                                           0.226408       0.225934   \n",
              "12796                                           0.203756       0.199486   \n",
              "12797                                           0.206512       0.224041   \n",
              "12798                                           0.222564       0.226052   \n",
              "12799                                           0.235754       0.220689   \n",
              "\n",
              "       Max: Useful  Min: Useful  Mean: Unbranded Title  Max: Unbranded Title  \\\n",
              "0         0.237311     0.201049               0.274804              0.355585   \n",
              "1         0.236499     0.204420               0.286007              0.341324   \n",
              "2         0.232498     0.181251               0.235375              0.304492   \n",
              "3         0.232498     0.199176               0.320455              0.360467   \n",
              "4         0.232498     0.179427               0.251728              0.317527   \n",
              "...            ...          ...                    ...                   ...   \n",
              "12795     0.241305     0.205404               0.303942              0.350042   \n",
              "12796     0.220694     0.185719               0.290570              0.332047   \n",
              "12797     0.235561     0.199977               0.244460              0.279828   \n",
              "12798     0.241918     0.203543               0.296286              0.348321   \n",
              "12799     0.239056     0.204659               0.268685              0.304296   \n",
              "\n",
              "       Min: Unbranded Title  n Images  \n",
              "0                  0.151234         8  \n",
              "1                  0.177184         8  \n",
              "2                  0.190385         8  \n",
              "3                  0.188404         6  \n",
              "4                  0.168969         8  \n",
              "...                     ...       ...  \n",
              "12795              0.177983         8  \n",
              "12796              0.194831         8  \n",
              "12797              0.188967         7  \n",
              "12798              0.186727         8  \n",
              "12799              0.180220         8  \n",
              "\n",
              "[12800 rows x 59 columns]"
            ],
            "text/html": [
              "\n",
              "  <div id=\"df-0c06b893-8700-44d3-8731-1498e806a5ce\">\n",
              "    <div class=\"colab-df-container\">\n",
              "      <div>\n",
              "<style scoped>\n",
              "    .dataframe tbody tr th:only-of-type {\n",
              "        vertical-align: middle;\n",
              "    }\n",
              "\n",
              "    .dataframe tbody tr th {\n",
              "        vertical-align: top;\n",
              "    }\n",
              "\n",
              "    .dataframe thead th {\n",
              "        text-align: right;\n",
              "    }\n",
              "</style>\n",
              "<table border=\"1\" class=\"dataframe\">\n",
              "  <thead>\n",
              "    <tr style=\"text-align: right;\">\n",
              "      <th></th>\n",
              "      <th>ASIN</th>\n",
              "      <th>n Videos</th>\n",
              "      <th>Base Price</th>\n",
              "      <th>Rating</th>\n",
              "      <th>Description Score</th>\n",
              "      <th>Description Bin</th>\n",
              "      <th>Department Rank</th>\n",
              "      <th>Sub-Department Rank</th>\n",
              "      <th>Department</th>\n",
              "      <th>Sub-Department</th>\n",
              "      <th>...</th>\n",
              "      <th>Mean: An image showcasing a product's effectiveness</th>\n",
              "      <th>Max: An image showcasing a product's effectiveness</th>\n",
              "      <th>Min: An image showcasing a product's effectiveness</th>\n",
              "      <th>Mean: Useful</th>\n",
              "      <th>Max: Useful</th>\n",
              "      <th>Min: Useful</th>\n",
              "      <th>Mean: Unbranded Title</th>\n",
              "      <th>Max: Unbranded Title</th>\n",
              "      <th>Min: Unbranded Title</th>\n",
              "      <th>n Images</th>\n",
              "    </tr>\n",
              "  </thead>\n",
              "  <tbody>\n",
              "    <tr>\n",
              "      <th>0</th>\n",
              "      <td>B09HSH8YKT</td>\n",
              "      <td>0.0</td>\n",
              "      <td>1.81</td>\n",
              "      <td>NaN</td>\n",
              "      <td>4.703251</td>\n",
              "      <td>6.0</td>\n",
              "      <td>NaN</td>\n",
              "      <td>NaN</td>\n",
              "      <td>NaN</td>\n",
              "      <td>NaN</td>\n",
              "      <td>...</td>\n",
              "      <td>0.230321</td>\n",
              "      <td>0.262897</td>\n",
              "      <td>0.209633</td>\n",
              "      <td>0.221413</td>\n",
              "      <td>0.237311</td>\n",
              "      <td>0.201049</td>\n",
              "      <td>0.274804</td>\n",
              "      <td>0.355585</td>\n",
              "      <td>0.151234</td>\n",
              "      <td>8</td>\n",
              "    </tr>\n",
              "    <tr>\n",
              "      <th>1</th>\n",
              "      <td>B094QXG23D</td>\n",
              "      <td>0.0</td>\n",
              "      <td>9.39</td>\n",
              "      <td>NaN</td>\n",
              "      <td>4.512032</td>\n",
              "      <td>5.0</td>\n",
              "      <td>NaN</td>\n",
              "      <td>NaN</td>\n",
              "      <td>NaN</td>\n",
              "      <td>NaN</td>\n",
              "      <td>...</td>\n",
              "      <td>0.231551</td>\n",
              "      <td>0.259788</td>\n",
              "      <td>0.214299</td>\n",
              "      <td>0.217060</td>\n",
              "      <td>0.236499</td>\n",
              "      <td>0.204420</td>\n",
              "      <td>0.286007</td>\n",
              "      <td>0.341324</td>\n",
              "      <td>0.177184</td>\n",
              "      <td>8</td>\n",
              "    </tr>\n",
              "    <tr>\n",
              "      <th>2</th>\n",
              "      <td>B09KH39RHV</td>\n",
              "      <td>0.0</td>\n",
              "      <td>4.62</td>\n",
              "      <td>NaN</td>\n",
              "      <td>4.347838</td>\n",
              "      <td>4.0</td>\n",
              "      <td>NaN</td>\n",
              "      <td>NaN</td>\n",
              "      <td>NaN</td>\n",
              "      <td>NaN</td>\n",
              "      <td>...</td>\n",
              "      <td>0.219192</td>\n",
              "      <td>0.262897</td>\n",
              "      <td>0.202536</td>\n",
              "      <td>0.201708</td>\n",
              "      <td>0.232498</td>\n",
              "      <td>0.181251</td>\n",
              "      <td>0.235375</td>\n",
              "      <td>0.304492</td>\n",
              "      <td>0.190385</td>\n",
              "      <td>8</td>\n",
              "    </tr>\n",
              "    <tr>\n",
              "      <th>3</th>\n",
              "      <td>B07BFWGDZG</td>\n",
              "      <td>0.0</td>\n",
              "      <td>5.99</td>\n",
              "      <td>5.0</td>\n",
              "      <td>4.316766</td>\n",
              "      <td>4.0</td>\n",
              "      <td>1204181.0</td>\n",
              "      <td>1864.0</td>\n",
              "      <td>home &amp; kitchen</td>\n",
              "      <td>tea pots</td>\n",
              "      <td>...</td>\n",
              "      <td>0.229986</td>\n",
              "      <td>0.262897</td>\n",
              "      <td>0.202992</td>\n",
              "      <td>0.213576</td>\n",
              "      <td>0.232498</td>\n",
              "      <td>0.199176</td>\n",
              "      <td>0.320455</td>\n",
              "      <td>0.360467</td>\n",
              "      <td>0.188404</td>\n",
              "      <td>6</td>\n",
              "    </tr>\n",
              "    <tr>\n",
              "      <th>4</th>\n",
              "      <td>B0BQVBY7D1</td>\n",
              "      <td>0.0</td>\n",
              "      <td>4.09</td>\n",
              "      <td>NaN</td>\n",
              "      <td>4.675052</td>\n",
              "      <td>6.0</td>\n",
              "      <td>NaN</td>\n",
              "      <td>NaN</td>\n",
              "      <td>NaN</td>\n",
              "      <td>NaN</td>\n",
              "      <td>...</td>\n",
              "      <td>0.218992</td>\n",
              "      <td>0.262897</td>\n",
              "      <td>0.187567</td>\n",
              "      <td>0.207581</td>\n",
              "      <td>0.232498</td>\n",
              "      <td>0.179427</td>\n",
              "      <td>0.251728</td>\n",
              "      <td>0.317527</td>\n",
              "      <td>0.168969</td>\n",
              "      <td>8</td>\n",
              "    </tr>\n",
              "    <tr>\n",
              "      <th>...</th>\n",
              "      <td>...</td>\n",
              "      <td>...</td>\n",
              "      <td>...</td>\n",
              "      <td>...</td>\n",
              "      <td>...</td>\n",
              "      <td>...</td>\n",
              "      <td>...</td>\n",
              "      <td>...</td>\n",
              "      <td>...</td>\n",
              "      <td>...</td>\n",
              "      <td>...</td>\n",
              "      <td>...</td>\n",
              "      <td>...</td>\n",
              "      <td>...</td>\n",
              "      <td>...</td>\n",
              "      <td>...</td>\n",
              "      <td>...</td>\n",
              "      <td>...</td>\n",
              "      <td>...</td>\n",
              "      <td>...</td>\n",
              "      <td>...</td>\n",
              "    </tr>\n",
              "    <tr>\n",
              "      <th>12795</th>\n",
              "      <td>B09T5RN7T9</td>\n",
              "      <td>0.0</td>\n",
              "      <td>9.49</td>\n",
              "      <td>NaN</td>\n",
              "      <td>4.190913</td>\n",
              "      <td>3.0</td>\n",
              "      <td>NaN</td>\n",
              "      <td>NaN</td>\n",
              "      <td>NaN</td>\n",
              "      <td>NaN</td>\n",
              "      <td>...</td>\n",
              "      <td>0.245330</td>\n",
              "      <td>0.257943</td>\n",
              "      <td>0.226408</td>\n",
              "      <td>0.225934</td>\n",
              "      <td>0.241305</td>\n",
              "      <td>0.205404</td>\n",
              "      <td>0.303942</td>\n",
              "      <td>0.350042</td>\n",
              "      <td>0.177983</td>\n",
              "      <td>8</td>\n",
              "    </tr>\n",
              "    <tr>\n",
              "      <th>12796</th>\n",
              "      <td>B09ZPC73CP</td>\n",
              "      <td>0.0</td>\n",
              "      <td>186.88</td>\n",
              "      <td>NaN</td>\n",
              "      <td>4.842924</td>\n",
              "      <td>6.0</td>\n",
              "      <td>NaN</td>\n",
              "      <td>NaN</td>\n",
              "      <td>NaN</td>\n",
              "      <td>NaN</td>\n",
              "      <td>...</td>\n",
              "      <td>0.217521</td>\n",
              "      <td>0.245057</td>\n",
              "      <td>0.203756</td>\n",
              "      <td>0.199486</td>\n",
              "      <td>0.220694</td>\n",
              "      <td>0.185719</td>\n",
              "      <td>0.290570</td>\n",
              "      <td>0.332047</td>\n",
              "      <td>0.194831</td>\n",
              "      <td>8</td>\n",
              "    </tr>\n",
              "    <tr>\n",
              "      <th>12797</th>\n",
              "      <td>B0B7X2VMKN</td>\n",
              "      <td>0.0</td>\n",
              "      <td>39.86</td>\n",
              "      <td>NaN</td>\n",
              "      <td>4.044750</td>\n",
              "      <td>2.0</td>\n",
              "      <td>NaN</td>\n",
              "      <td>NaN</td>\n",
              "      <td>NaN</td>\n",
              "      <td>NaN</td>\n",
              "      <td>...</td>\n",
              "      <td>0.219716</td>\n",
              "      <td>0.228513</td>\n",
              "      <td>0.206512</td>\n",
              "      <td>0.224041</td>\n",
              "      <td>0.235561</td>\n",
              "      <td>0.199977</td>\n",
              "      <td>0.244460</td>\n",
              "      <td>0.279828</td>\n",
              "      <td>0.188967</td>\n",
              "      <td>7</td>\n",
              "    </tr>\n",
              "    <tr>\n",
              "      <th>12798</th>\n",
              "      <td>B09GB9S91N</td>\n",
              "      <td>0.0</td>\n",
              "      <td>18.67</td>\n",
              "      <td>NaN</td>\n",
              "      <td>3.836184</td>\n",
              "      <td>2.0</td>\n",
              "      <td>NaN</td>\n",
              "      <td>NaN</td>\n",
              "      <td>NaN</td>\n",
              "      <td>NaN</td>\n",
              "      <td>...</td>\n",
              "      <td>0.240384</td>\n",
              "      <td>0.250679</td>\n",
              "      <td>0.222564</td>\n",
              "      <td>0.226052</td>\n",
              "      <td>0.241918</td>\n",
              "      <td>0.203543</td>\n",
              "      <td>0.296286</td>\n",
              "      <td>0.348321</td>\n",
              "      <td>0.186727</td>\n",
              "      <td>8</td>\n",
              "    </tr>\n",
              "    <tr>\n",
              "      <th>12799</th>\n",
              "      <td>B092VZ6K4H</td>\n",
              "      <td>0.0</td>\n",
              "      <td>28.99</td>\n",
              "      <td>NaN</td>\n",
              "      <td>4.358564</td>\n",
              "      <td>4.0</td>\n",
              "      <td>NaN</td>\n",
              "      <td>NaN</td>\n",
              "      <td>NaN</td>\n",
              "      <td>NaN</td>\n",
              "      <td>...</td>\n",
              "      <td>0.245095</td>\n",
              "      <td>0.258638</td>\n",
              "      <td>0.235754</td>\n",
              "      <td>0.220689</td>\n",
              "      <td>0.239056</td>\n",
              "      <td>0.204659</td>\n",
              "      <td>0.268685</td>\n",
              "      <td>0.304296</td>\n",
              "      <td>0.180220</td>\n",
              "      <td>8</td>\n",
              "    </tr>\n",
              "  </tbody>\n",
              "</table>\n",
              "<p>12800 rows × 59 columns</p>\n",
              "</div>\n",
              "      <button class=\"colab-df-convert\" onclick=\"convertToInteractive('df-0c06b893-8700-44d3-8731-1498e806a5ce')\"\n",
              "              title=\"Convert this dataframe to an interactive table.\"\n",
              "              style=\"display:none;\">\n",
              "        \n",
              "  <svg xmlns=\"http://www.w3.org/2000/svg\" height=\"24px\"viewBox=\"0 0 24 24\"\n",
              "       width=\"24px\">\n",
              "    <path d=\"M0 0h24v24H0V0z\" fill=\"none\"/>\n",
              "    <path d=\"M18.56 5.44l.94 2.06.94-2.06 2.06-.94-2.06-.94-.94-2.06-.94 2.06-2.06.94zm-11 1L8.5 8.5l.94-2.06 2.06-.94-2.06-.94L8.5 2.5l-.94 2.06-2.06.94zm10 10l.94 2.06.94-2.06 2.06-.94-2.06-.94-.94-2.06-.94 2.06-2.06.94z\"/><path d=\"M17.41 7.96l-1.37-1.37c-.4-.4-.92-.59-1.43-.59-.52 0-1.04.2-1.43.59L10.3 9.45l-7.72 7.72c-.78.78-.78 2.05 0 2.83L4 21.41c.39.39.9.59 1.41.59.51 0 1.02-.2 1.41-.59l7.78-7.78 2.81-2.81c.8-.78.8-2.07 0-2.86zM5.41 20L4 18.59l7.72-7.72 1.47 1.35L5.41 20z\"/>\n",
              "  </svg>\n",
              "      </button>\n",
              "      \n",
              "  <style>\n",
              "    .colab-df-container {\n",
              "      display:flex;\n",
              "      flex-wrap:wrap;\n",
              "      gap: 12px;\n",
              "    }\n",
              "\n",
              "    .colab-df-convert {\n",
              "      background-color: #E8F0FE;\n",
              "      border: none;\n",
              "      border-radius: 50%;\n",
              "      cursor: pointer;\n",
              "      display: none;\n",
              "      fill: #1967D2;\n",
              "      height: 32px;\n",
              "      padding: 0 0 0 0;\n",
              "      width: 32px;\n",
              "    }\n",
              "\n",
              "    .colab-df-convert:hover {\n",
              "      background-color: #E2EBFA;\n",
              "      box-shadow: 0px 1px 2px rgba(60, 64, 67, 0.3), 0px 1px 3px 1px rgba(60, 64, 67, 0.15);\n",
              "      fill: #174EA6;\n",
              "    }\n",
              "\n",
              "    [theme=dark] .colab-df-convert {\n",
              "      background-color: #3B4455;\n",
              "      fill: #D2E3FC;\n",
              "    }\n",
              "\n",
              "    [theme=dark] .colab-df-convert:hover {\n",
              "      background-color: #434B5C;\n",
              "      box-shadow: 0px 1px 3px 1px rgba(0, 0, 0, 0.15);\n",
              "      filter: drop-shadow(0px 1px 2px rgba(0, 0, 0, 0.3));\n",
              "      fill: #FFFFFF;\n",
              "    }\n",
              "  </style>\n",
              "\n",
              "      <script>\n",
              "        const buttonEl =\n",
              "          document.querySelector('#df-0c06b893-8700-44d3-8731-1498e806a5ce button.colab-df-convert');\n",
              "        buttonEl.style.display =\n",
              "          google.colab.kernel.accessAllowed ? 'block' : 'none';\n",
              "\n",
              "        async function convertToInteractive(key) {\n",
              "          const element = document.querySelector('#df-0c06b893-8700-44d3-8731-1498e806a5ce');\n",
              "          const dataTable =\n",
              "            await google.colab.kernel.invokeFunction('convertToInteractive',\n",
              "                                                     [key], {});\n",
              "          if (!dataTable) return;\n",
              "\n",
              "          const docLinkHtml = 'Like what you see? Visit the ' +\n",
              "            '<a target=\"_blank\" href=https://colab.research.google.com/notebooks/data_table.ipynb>data table notebook</a>'\n",
              "            + ' to learn more about interactive tables.';\n",
              "          element.innerHTML = '';\n",
              "          dataTable['output_type'] = 'display_data';\n",
              "          await google.colab.output.renderOutput(dataTable, element);\n",
              "          const docLink = document.createElement('div');\n",
              "          docLink.innerHTML = docLinkHtml;\n",
              "          element.appendChild(docLink);\n",
              "        }\n",
              "      </script>\n",
              "    </div>\n",
              "  </div>\n",
              "  "
            ]
          },
          "metadata": {},
          "execution_count": 57
        }
      ],
      "source": [
        "data = pd.read_csv('/content/drive/MyDrive/Project Data/processed_data.csv').drop(columns = ['Unnamed: 0', 'Title', 'Name', 'Brand'])  # read pre-processed data\n",
        "data"
      ]
    },
    {
      "cell_type": "code",
      "execution_count": null,
      "metadata": {
        "id": "SvP-gMGFujZ3"
      },
      "outputs": [],
      "source": [
        "data['n Images'] = data['n Images'].replace(512, 1)  # replace error in data processing"
      ]
    },
    {
      "cell_type": "code",
      "execution_count": null,
      "metadata": {
        "id": "Oe4iJcPNz5wL"
      },
      "outputs": [],
      "source": [
        "def num_string_to_list(num_str):  # convert to list of numbers from string stored in csv\n",
        "  return [float(num) for num in num_str.split('[')[1].split(']')[0].split(', ')]"
      ]
    },
    {
      "cell_type": "code",
      "execution_count": null,
      "metadata": {
        "id": "FJ3mS3OwbBBM"
      },
      "outputs": [],
      "source": [
        "def tensor_string_to_list(csv_str):  # convert tensor list stored in csv as string\n",
        "  num_tensors = len(csv_str.split('tensor')) - 1\n",
        "  if num_tensors == 1:\n",
        "    stripped_str = csv_str.split('tensor([')[1].split('])')[0].replace('\\n', \"\")\n",
        "    float_list = [float(num_str) for num_str in stripped_str.split(',')]\n",
        "    return float_list\n",
        "  elif num_tensors < 1:\n",
        "    print('error in string')\n",
        "    return np.NaN\n",
        "  elif num_tensors > 1:\n",
        "    tensor_list = csv_str.split('tensor([')\n",
        "    float_list_list = []\n",
        "    for i in range(num_tensors):\n",
        "      stripped_str = tensor_list[i+1].replace(']), ', '').replace('\\n', '').replace('])]', '')\n",
        "      float_list = [float(num_str) for num_str in stripped_str.split(',')]\n",
        "      float_list_list.append(float_list)\n",
        "    return float_list_list"
      ]
    },
    {
      "cell_type": "code",
      "execution_count": null,
      "metadata": {
        "id": "oYPTwLe7w8mE"
      },
      "outputs": [],
      "source": [
        "comp_home_data = data[data['Department'].isin(['home & kitchen'])].drop(columns=['Department']) # , np.NaN]  # select data from home & kitchen department\n",
        "comp_home_data = comp_home_data.loc[comp_home_data[comp_home_data['Min: Unbranded Title'] > 0.01].index]  # remove any abnormally low similarity scores"
      ]
    },
    {
      "cell_type": "code",
      "execution_count": null,
      "metadata": {
        "id": "tnDKBr4PL4Vj"
      },
      "outputs": [],
      "source": [
        "def catagorise_dep_rank(dep_rank, boundaries):  # categorise BSR from 0-n based on boundaries provided\n",
        "  if type(dep_rank) == str:\n",
        "    return dep_rank\n",
        "\n",
        "  if dep_rank <= boundaries[0]:\n",
        "    return 0\n",
        "\n",
        "  for i in range(len(boundaries)-1):\n",
        "    if boundaries[i]-1 < dep_rank <= boundaries[i+1]:\n",
        "      return i+1\n",
        "\n",
        "  if dep_rank > boundaries[len(boundaries)-1]:\n",
        "    return len(boundaries)\n",
        "  else:\n",
        "    return dep_rank"
      ]
    },
    {
      "cell_type": "code",
      "execution_count": null,
      "metadata": {
        "colab": {
          "base_uri": "https://localhost:8080/"
        },
        "id": "zcQgvw5NPW6w",
        "outputId": "74f28972-83bc-4782-d81f-bbe8970a89ee"
      },
      "outputs": [
        {
          "output_type": "execute_result",
          "data": {
            "text/plain": [
              "0.2     148418.6\n",
              "0.4     517984.6\n",
              "0.6    1307767.6\n",
              "0.8    2405681.0\n",
              "Name: Department Rank, dtype: float64"
            ]
          },
          "metadata": {},
          "execution_count": 63
        }
      ],
      "source": [
        "n_cats = 5  # number categories for BSR\n",
        "quant_step = 1/n_cats\n",
        "dep_splits = comp_home_data['Department Rank'].quantile(np.arange(quant_step, 1-quant_step, quant_step))  # get BSR category boundaries according to quantiles for even split\n",
        "cats = ['Top 150k', '150-500k', '500-1300k', '1300-2400k', 'Below 2400k', 'unranked']  # string array of categories for labelling graphs\n",
        "dep_splits"
      ]
    },
    {
      "cell_type": "code",
      "execution_count": null,
      "metadata": {
        "id": "j10PX_7tK_s_"
      },
      "outputs": [],
      "source": [
        "comp_home_data['Department Rank'] = comp_home_data['Department Rank'].fillna( len(dep_splits.values)+1 ).apply(lambda x: catagorise_dep_rank(dep_rank=x, boundaries=dep_splits.values))  # apply categorisation function"
      ]
    },
    {
      "cell_type": "code",
      "execution_count": null,
      "metadata": {
        "colab": {
          "base_uri": "https://localhost:8080/"
        },
        "id": "6mMQwHBBvHZd",
        "outputId": "f804641e-a2bc-457e-9fa8-4480d74427ac"
      },
      "outputs": [
        {
          "output_type": "execute_result",
          "data": {
            "text/plain": [
              "2.0    444\n",
              "0.0    444\n",
              "4.0    444\n",
              "5.0    444\n",
              "1.0    443\n",
              "3.0    443\n",
              "Name: Department Rank, dtype: int64"
            ]
          },
          "metadata": {},
          "execution_count": 65
        }
      ],
      "source": [
        "unranked_sample = data.drop(data.dropna(subset = ['Department']).index).sample(n = comp_home_data['Department Rank'].value_counts()[0]).drop(columns = ['Department'])  # get sample of unranked listings equal size to other categories\n",
        "comp_home_data = pd.concat([comp_home_data, unranked_sample],axis=0, sort=False)  # add unranked sample to data\n",
        "comp_home_data['Department Rank'] = comp_home_data['Department Rank'].fillna(len(dep_splits) + 1)  # label unranked samples\n",
        "comp_home_data['Department Rank'].value_counts()"
      ]
    },
    {
      "cell_type": "code",
      "execution_count": null,
      "metadata": {
        "id": "ca5H2gI71l0R"
      },
      "outputs": [],
      "source": [
        "cat_features = ['n Images', 'n Videos', 'Description Bin'] # list of categorical columns to be fed into model\n",
        "home_data_tranform = comp_home_data  # new dataframe before final processing is applied"
      ]
    },
    {
      "cell_type": "code",
      "execution_count": null,
      "metadata": {
        "colab": {
          "base_uri": "https://localhost:8080/"
        },
        "id": "aXVxpcMr4jcJ",
        "outputId": "71afe832-f03a-46b4-a13e-f746a00b6267"
      },
      "outputs": [
        {
          "output_type": "stream",
          "name": "stdout",
          "text": [
            "<class 'pandas.core.frame.DataFrame'>\n",
            "RangeIndex: 2662 entries, 0 to 2661\n",
            "Data columns (total 52 columns):\n",
            " #   Column                                                                                    Non-Null Count  Dtype  \n",
            "---  ------                                                                                    --------------  -----  \n",
            " 0   n Videos                                                                                  2662 non-null   float64\n",
            " 1   Base Price                                                                                2662 non-null   float64\n",
            " 2   Rating                                                                                    2662 non-null   float64\n",
            " 3   Description Bin                                                                           2662 non-null   float64\n",
            " 4   Department Rank                                                                           2662 non-null   float64\n",
            " 5   Normalised Deal Saving                                                                    2662 non-null   float64\n",
            " 6   Mean: An effective advertisement                                                          2662 non-null   float64\n",
            " 7   Max: An effective advertisement                                                           2662 non-null   float64\n",
            " 8   Min: An effective advertisement                                                           2662 non-null   float64\n",
            " 9   Mean: An image showing extra detail                                                       2662 non-null   float64\n",
            " 10  Max: An image showing extra detail                                                        2662 non-null   float64\n",
            " 11  Min: An image showing extra detail                                                        2662 non-null   float64\n",
            " 12  Mean: A best selling amazon image                                                         2662 non-null   float64\n",
            " 13  Max: A best selling amazon image                                                          2662 non-null   float64\n",
            " 14  Min: A best selling amazon image                                                          2662 non-null   float64\n",
            " 15  Mean: An image of a best selling product                                                  2662 non-null   float64\n",
            " 16  Max: An image of a best selling product                                                   2662 non-null   float64\n",
            " 17  Min: An image of a best selling product                                                   2662 non-null   float64\n",
            " 18  Mean: A well framed product                                                               2662 non-null   float64\n",
            " 19  Max: A well framed product                                                                2662 non-null   float64\n",
            " 20  Min: A well framed product                                                                2662 non-null   float64\n",
            " 21  Mean: Does the image accurately reflect the product's price point and value proposition?  2662 non-null   float64\n",
            " 22  Max: Does the image accurately reflect the product's price point and value proposition?   2662 non-null   float64\n",
            " 23  Min: Does the image accurately reflect the product's price point and value proposition?   2662 non-null   float64\n",
            " 24  Mean: An image showing a specific detail clearly                                          2662 non-null   float64\n",
            " 25  Max: An image showing a specific detail clearly                                           2662 non-null   float64\n",
            " 26  Min: An image showing a specific detail clearly                                           2662 non-null   float64\n",
            " 27  Mean: Does the image accurately depict the product as described in the listing?           2662 non-null   float64\n",
            " 28  Max: Does the image accurately depict the product as described in the listing?            2662 non-null   float64\n",
            " 29  Min: Does the image accurately depict the product as described in the listing?            2662 non-null   float64\n",
            " 30  Mean: A bright and clearly visable product                                                2662 non-null   float64\n",
            " 31  Max: A bright and clearly visable product                                                 2662 non-null   float64\n",
            " 32  Min: A bright and clearly visable product                                                 2662 non-null   float64\n",
            " 33  Mean: A well lit image of a product                                                       2662 non-null   float64\n",
            " 34  Max: A well lit image of a product                                                        2662 non-null   float64\n",
            " 35  Min: A well lit image of a product                                                        2662 non-null   float64\n",
            " 36  Mean: A professional image                                                                2662 non-null   float64\n",
            " 37  Max: A professional image                                                                 2662 non-null   float64\n",
            " 38  Min: A professional image                                                                 2662 non-null   float64\n",
            " 39  Mean: a high resolution image                                                             2662 non-null   float64\n",
            " 40  Max: a high resolution image                                                              2662 non-null   float64\n",
            " 41  Min: a high resolution image                                                              2662 non-null   float64\n",
            " 42  Mean: An image showcasing a product's effectiveness                                       2662 non-null   float64\n",
            " 43  Max: An image showcasing a product's effectiveness                                        2662 non-null   float64\n",
            " 44  Min: An image showcasing a product's effectiveness                                        2662 non-null   float64\n",
            " 45  Mean: Useful                                                                              2662 non-null   float64\n",
            " 46  Max: Useful                                                                               2662 non-null   float64\n",
            " 47  Min: Useful                                                                               2662 non-null   float64\n",
            " 48  Mean: Unbranded Title                                                                     2662 non-null   float64\n",
            " 49  Max: Unbranded Title                                                                      2662 non-null   float64\n",
            " 50  Min: Unbranded Title                                                                      2662 non-null   float64\n",
            " 51  n Images                                                                                  2662 non-null   int64  \n",
            "dtypes: float64(51), int64(1)\n",
            "memory usage: 1.1 MB\n"
          ]
        }
      ],
      "source": [
        "home_data_tranform = home_data_tranform.drop(columns = ['ASIN', 'Sub-Department Rank', 'Sub-Department', 'Unbranded Title',\t'Unbranded Name'])  # drop unnused columns\n",
        "home_data_tranform = home_data_tranform.drop(columns = ['Description Score'])  # drop description score, description bin found to be more useful\n",
        "home_data_tranform['Rating'] = home_data_tranform['Rating'].fillna(np.mean(comp_home_data['Rating']))  # replace missing ratings with mean, deemed to be more effective than 0\n",
        "home_data_tranform = home_data_tranform.dropna(subset=['Base Price']).reset_index().drop(columns='index')  # remove listings missing price\n",
        "home_data_tranform['Normalised Deal Saving'] = home_data_tranform['Normalised Deal Saving'].fillna(0.0)  # where there is no deal deal saving is 0\n",
        "home_data_tranform['Base Price'] = home_data_tranform['Base Price'].apply(math.log)  # log of price found to be more effective\n",
        "home_data_tranform.info()"
      ]
    },
    {
      "cell_type": "markdown",
      "source": [
        "Seperate image features data for analysis"
      ],
      "metadata": {
        "id": "Jc6XpnibhEvY"
      }
    },
    {
      "cell_type": "code",
      "execution_count": null,
      "metadata": {
        "id": "kWxAfzMf50XI"
      },
      "outputs": [],
      "source": [
        "img_feat_columns = []  # identify and list columns which contain image features\n",
        "for column in home_data_tranform.columns:\n",
        "  if 'Mean:' in column:\n",
        "    img_feat_columns.append(column)\n",
        "  if 'Min:' in column:\n",
        "    img_feat_columns.append(column)\n",
        "  if 'Max:' in column:\n",
        "    img_feat_columns.append(column)"
      ]
    },
    {
      "cell_type": "code",
      "execution_count": null,
      "metadata": {
        "colab": {
          "base_uri": "https://localhost:8080/"
        },
        "id": "ZfHocVTZcAjz",
        "outputId": "b1d3319c-5451-47b8-9605-e25d5a9cfedb"
      },
      "outputs": [
        {
          "output_type": "execute_result",
          "data": {
            "text/plain": [
              "Index(['Mean An effective advertisement', 'Max An effective advertisement',\n",
              "       'Min An effective advertisement', 'Mean An image showing extra detail',\n",
              "       'Max An image showing extra detail',\n",
              "       'Min An image showing extra detail', 'Mean A best selling amazon image',\n",
              "       'Max A best selling amazon image', 'Min A best selling amazon image',\n",
              "       'Mean An image of a best selling product',\n",
              "       'Max An image of a best selling product',\n",
              "       'Min An image of a best selling product', 'Mean A well framed product',\n",
              "       'Max A well framed product', 'Min A well framed product',\n",
              "       'Mean Does the image accurately reflect the product's price point and value proposition?',\n",
              "       'Max Does the image accurately reflect the product's price point and value proposition?',\n",
              "       'Min Does the image accurately reflect the product's price point and value proposition?',\n",
              "       'Mean An image showing a specific detail clearly',\n",
              "       'Max An image showing a specific detail clearly',\n",
              "       'Min An image showing a specific detail clearly',\n",
              "       'Mean Does the image accurately depict the product as described in the listing?',\n",
              "       'Max Does the image accurately depict the product as described in the listing?',\n",
              "       'Min Does the image accurately depict the product as described in the listing?',\n",
              "       'Mean A bright and clearly visable product',\n",
              "       'Max A bright and clearly visable product',\n",
              "       'Min A bright and clearly visable product',\n",
              "       'Mean A well lit image of a product',\n",
              "       'Max A well lit image of a product',\n",
              "       'Min A well lit image of a product', 'Mean A professional image',\n",
              "       'Max A professional image', 'Min A professional image',\n",
              "       'Mean a high resolution image', 'Max a high resolution image',\n",
              "       'Min a high resolution image',\n",
              "       'Mean An image showcasing a product's effectiveness',\n",
              "       'Max An image showcasing a product's effectiveness',\n",
              "       'Min An image showcasing a product's effectiveness', 'Mean Useful',\n",
              "       'Max Useful', 'Min Useful', 'Mean Unbranded Title',\n",
              "       'Max Unbranded Title', 'Min Unbranded Title'],\n",
              "      dtype='object')"
            ]
          },
          "metadata": {},
          "execution_count": 69
        }
      ],
      "source": [
        "img_feat_data = home_data_tranform[img_feat_columns]  # move image feature data to new dataframe\n",
        "home_data_tranform = home_data_tranform.drop(columns = img_feat_columns)  # remove image feature data\n",
        "img_feat_data.columns = img_feat_data.columns.str.replace(':', '')  # remove colons from list of image feature columns to allow iteration\n",
        "img_feat_data.columns"
      ]
    },
    {
      "cell_type": "markdown",
      "source": [
        "Iterate through combinations of image features used and test model accuracy for each"
      ],
      "metadata": {
        "id": "TsXO6X9OhtAV"
      }
    },
    {
      "cell_type": "code",
      "execution_count": null,
      "metadata": {
        "id": "kxiHUY7Dc6on"
      },
      "outputs": [],
      "source": [
        "iterations = 10\n",
        "\n",
        "y = home_data_tranform['Department Rank']\n",
        "train_ratio = 0.75\n",
        "validation_ratio = 0.15\n",
        "test_ratio = 0.10\n",
        "\n",
        "num_classes = len(y.value_counts())  # number of classes of BSR\n",
        "\n",
        "params = {  # optimal params for model\n",
        "    'objective' : 'multiclass',\n",
        "    'num_class' : num_classes,\n",
        "    'num_leaves' : num_classes,\n",
        "    'max_depth': 30,\n",
        "    'learning_rate' : 0.1,\n",
        "    # 'feature_fraction' : 0.6,\n",
        "    'verbosity' : -1\n",
        "}\n",
        "\n",
        "test_columns = img_feat_data.columns[0:9]  # test the top 3 correlated img features (list still in order and mean, min, max for each)\n",
        "ave_accuracies = pd.DataFrame(columns=['Columns Used', 'Log Loss Score', 'Weighted Accuracy', 'Per Category Accuracy'])  # empy dataframe to populate with results\n",
        "for L in range(len(test_columns) + 1):\n",
        "    for subset in itertools.combinations(test_columns, L):  # iterate through each combination\n",
        "        print(subset)\n",
        "        features = list(subset)\n",
        "        used_img_feats = img_feat_data[features]  # select image data to include\n",
        "        x = home_data_tranform.drop(columns = ['Department Rank']).join(used_img_feats)  # add image data to x\n",
        "        \n",
        "        tot_accuracy_scores = zeros(num_classes)\n",
        "        tot_log_loss = 0\n",
        "        tot_weighted_accuracy = 0\n",
        "        for i in range(iterations):  # repeat model training for many iterations to reduce random variation\n",
        "          # train is now 75% of the entire data set\n",
        "          train_x, test_x, train_y, test_y = train_test_split(x, y, test_size= (1 - train_ratio))\n",
        "\n",
        "          # test is now 10% of the initial data set\n",
        "          # validation is now 15% of the initial data set\n",
        "          valid_x, test_x, valid_y, test_y = train_test_split(test_x, test_y, test_size= test_ratio/(test_ratio + validation_ratio)) \n",
        "\n",
        "\n",
        "          # Create the LightGBM data containers\n",
        "          # Make sure that cat_features are used\n",
        "          train_data=lgb.Dataset(train_x,label=train_y, categorical_feature = cat_features)\n",
        "          valid_data=lgb.Dataset(valid_x,label=valid_y, categorical_feature = cat_features)\n",
        "\n",
        "          lgbm = lgb.train(params,  # train model\n",
        "                train_data,\n",
        "                2500,\n",
        "                valid_sets=valid_data,\n",
        "                early_stopping_rounds= 30,\n",
        "                # verbosity = -1\n",
        "                verbose_eval= -100\n",
        "                )\n",
        "\n",
        "          pred_y = lgbm.predict(test_x)  # predict test values\n",
        "          pred_y_vals = [np.argmax(line) for line in pred_y]  # get predicted bin from values\n",
        "          accuracy = precision_score(pred_y_vals,test_y.values,average=None)  # get accuracy for each category\n",
        "          weighted_accuracy = precision_score(pred_y_vals,test_y.values,average='weighted')  # get weighted accuracy for all categories\n",
        "          tot_weighted_accuracy = tot_weighted_accuracy + weighted_accuracy \n",
        "          tot_accuracy_scores = tot_accuracy_scores + accuracy\n",
        "          log_loss_score = log_loss(test_y.values, pred_y)  # get log loss score\n",
        "          tot_log_loss = tot_log_loss + log_loss_score\n",
        "        ave_accuracy = tot_accuracy_scores/iterations  # get average for from total of each metric by dividing by iterations\n",
        "        ave_log_loss = tot_log_loss/iterations\n",
        "        overall_accuracy = tot_weighted_accuracy/iterations\n",
        "        ave_accuracies.loc[len(ave_accuracies)] = {'Columns Used': subset, 'Log Loss Score': ave_log_loss, 'Weighted Accuracy': overall_accuracy, 'Per Category Accuracy': ave_accuracy}  # populate results df\n",
        "\n",
        "ave_accuracies"
      ]
    },
    {
      "cell_type": "code",
      "execution_count": null,
      "metadata": {
        "id": "mroJfD-PXGs4"
      },
      "outputs": [],
      "source": [
        "best_results = ave_accuracies.sort_values('Log Loss Score', ascending = True).reset_index(drop=True)  # get best combinations of image data by log loss score\n",
        "best_img_feats = list(best_results['Columns Used'][0])\n",
        "best_results"
      ]
    },
    {
      "cell_type": "code",
      "execution_count": null,
      "metadata": {
        "id": "62TjF8tR44q7"
      },
      "outputs": [],
      "source": [
        "home_data_tranform = home_data_tranform.join(img_feat_data[best_results]  # join with calculated best results or saved best results below\n",
        "# home_data_tranform = home_data_tranform.join(img_feat_data[['Mean An image showing extra detail', 'Min An image showing extra detail', 'Mean A best selling amazon image', 'Max A best selling amazon image']])"
      ]
    },
    {
      "cell_type": "markdown",
      "source": [
        "Generate Model Learning Curve"
      ],
      "metadata": {
        "id": "hqzrbNqFj7IV"
      }
    },
    {
      "cell_type": "code",
      "execution_count": null,
      "metadata": {
        "colab": {
          "base_uri": "https://localhost:8080/",
          "height": 228
        },
        "id": "bYG9EqSxMyjQ",
        "outputId": "4db3289d-0188-4251-d656-cd3d7b79467e"
      },
      "outputs": [
        {
          "output_type": "stream",
          "name": "stdout",
          "text": [
            "Training until validation scores don't improve for 30 rounds\n"
          ]
        },
        {
          "output_type": "stream",
          "name": "stderr",
          "text": [
            "'early_stopping_rounds' argument is deprecated and will be removed in a future release of LightGBM. Pass 'early_stopping()' callback via 'callbacks' argument instead.\n",
            "Using categorical_feature in Dataset.\n",
            "'verbose_eval' argument is deprecated and will be removed in a future release of LightGBM. Pass 'log_evaluation()' callback via 'callbacks' argument instead.\n",
            "Overriding the parameters from Reference Dataset.\n",
            "categorical_column in param dict is overridden.\n"
          ]
        },
        {
          "output_type": "stream",
          "name": "stdout",
          "text": [
            "Early stopping, best iteration is:\n",
            "[153]\tvalid_0's multi_logloss: 1.27902\n"
          ]
        },
        {
          "output_type": "execute_result",
          "data": {
            "text/plain": [
              "   Sample Size  num cats  Log Loss  Weighted Accuracy  Overall Accuracy  \\\n",
              "0            1         6  1.271289           0.544763           0.52852   \n",
              "\n",
              "                               Per Category Accuracy     Cat 0     Cat 1  \\\n",
              "0  [0.6382978723404256, 0.47058823529411764, 0.48...  0.638298  0.470588   \n",
              "\n",
              "      Cat 2     Cat 3  Cat 4     Cat 5  \n",
              "0  0.487179  0.340909    0.6  0.634146  "
            ],
            "text/html": [
              "\n",
              "  <div id=\"df-46bb17b2-d0de-4574-9acb-47d1f2e7ddaf\">\n",
              "    <div class=\"colab-df-container\">\n",
              "      <div>\n",
              "<style scoped>\n",
              "    .dataframe tbody tr th:only-of-type {\n",
              "        vertical-align: middle;\n",
              "    }\n",
              "\n",
              "    .dataframe tbody tr th {\n",
              "        vertical-align: top;\n",
              "    }\n",
              "\n",
              "    .dataframe thead th {\n",
              "        text-align: right;\n",
              "    }\n",
              "</style>\n",
              "<table border=\"1\" class=\"dataframe\">\n",
              "  <thead>\n",
              "    <tr style=\"text-align: right;\">\n",
              "      <th></th>\n",
              "      <th>Sample Size</th>\n",
              "      <th>num cats</th>\n",
              "      <th>Log Loss</th>\n",
              "      <th>Weighted Accuracy</th>\n",
              "      <th>Overall Accuracy</th>\n",
              "      <th>Per Category Accuracy</th>\n",
              "      <th>Cat 0</th>\n",
              "      <th>Cat 1</th>\n",
              "      <th>Cat 2</th>\n",
              "      <th>Cat 3</th>\n",
              "      <th>Cat 4</th>\n",
              "      <th>Cat 5</th>\n",
              "    </tr>\n",
              "  </thead>\n",
              "  <tbody>\n",
              "    <tr>\n",
              "      <th>0</th>\n",
              "      <td>1</td>\n",
              "      <td>6</td>\n",
              "      <td>1.271289</td>\n",
              "      <td>0.544763</td>\n",
              "      <td>0.52852</td>\n",
              "      <td>[0.6382978723404256, 0.47058823529411764, 0.48...</td>\n",
              "      <td>0.638298</td>\n",
              "      <td>0.470588</td>\n",
              "      <td>0.487179</td>\n",
              "      <td>0.340909</td>\n",
              "      <td>0.6</td>\n",
              "      <td>0.634146</td>\n",
              "    </tr>\n",
              "  </tbody>\n",
              "</table>\n",
              "</div>\n",
              "      <button class=\"colab-df-convert\" onclick=\"convertToInteractive('df-46bb17b2-d0de-4574-9acb-47d1f2e7ddaf')\"\n",
              "              title=\"Convert this dataframe to an interactive table.\"\n",
              "              style=\"display:none;\">\n",
              "        \n",
              "  <svg xmlns=\"http://www.w3.org/2000/svg\" height=\"24px\"viewBox=\"0 0 24 24\"\n",
              "       width=\"24px\">\n",
              "    <path d=\"M0 0h24v24H0V0z\" fill=\"none\"/>\n",
              "    <path d=\"M18.56 5.44l.94 2.06.94-2.06 2.06-.94-2.06-.94-.94-2.06-.94 2.06-2.06.94zm-11 1L8.5 8.5l.94-2.06 2.06-.94-2.06-.94L8.5 2.5l-.94 2.06-2.06.94zm10 10l.94 2.06.94-2.06 2.06-.94-2.06-.94-.94-2.06-.94 2.06-2.06.94z\"/><path d=\"M17.41 7.96l-1.37-1.37c-.4-.4-.92-.59-1.43-.59-.52 0-1.04.2-1.43.59L10.3 9.45l-7.72 7.72c-.78.78-.78 2.05 0 2.83L4 21.41c.39.39.9.59 1.41.59.51 0 1.02-.2 1.41-.59l7.78-7.78 2.81-2.81c.8-.78.8-2.07 0-2.86zM5.41 20L4 18.59l7.72-7.72 1.47 1.35L5.41 20z\"/>\n",
              "  </svg>\n",
              "      </button>\n",
              "      \n",
              "  <style>\n",
              "    .colab-df-container {\n",
              "      display:flex;\n",
              "      flex-wrap:wrap;\n",
              "      gap: 12px;\n",
              "    }\n",
              "\n",
              "    .colab-df-convert {\n",
              "      background-color: #E8F0FE;\n",
              "      border: none;\n",
              "      border-radius: 50%;\n",
              "      cursor: pointer;\n",
              "      display: none;\n",
              "      fill: #1967D2;\n",
              "      height: 32px;\n",
              "      padding: 0 0 0 0;\n",
              "      width: 32px;\n",
              "    }\n",
              "\n",
              "    .colab-df-convert:hover {\n",
              "      background-color: #E2EBFA;\n",
              "      box-shadow: 0px 1px 2px rgba(60, 64, 67, 0.3), 0px 1px 3px 1px rgba(60, 64, 67, 0.15);\n",
              "      fill: #174EA6;\n",
              "    }\n",
              "\n",
              "    [theme=dark] .colab-df-convert {\n",
              "      background-color: #3B4455;\n",
              "      fill: #D2E3FC;\n",
              "    }\n",
              "\n",
              "    [theme=dark] .colab-df-convert:hover {\n",
              "      background-color: #434B5C;\n",
              "      box-shadow: 0px 1px 3px 1px rgba(0, 0, 0, 0.15);\n",
              "      filter: drop-shadow(0px 1px 2px rgba(0, 0, 0, 0.3));\n",
              "      fill: #FFFFFF;\n",
              "    }\n",
              "  </style>\n",
              "\n",
              "      <script>\n",
              "        const buttonEl =\n",
              "          document.querySelector('#df-46bb17b2-d0de-4574-9acb-47d1f2e7ddaf button.colab-df-convert');\n",
              "        buttonEl.style.display =\n",
              "          google.colab.kernel.accessAllowed ? 'block' : 'none';\n",
              "\n",
              "        async function convertToInteractive(key) {\n",
              "          const element = document.querySelector('#df-46bb17b2-d0de-4574-9acb-47d1f2e7ddaf');\n",
              "          const dataTable =\n",
              "            await google.colab.kernel.invokeFunction('convertToInteractive',\n",
              "                                                     [key], {});\n",
              "          if (!dataTable) return;\n",
              "\n",
              "          const docLinkHtml = 'Like what you see? Visit the ' +\n",
              "            '<a target=\"_blank\" href=https://colab.research.google.com/notebooks/data_table.ipynb>data table notebook</a>'\n",
              "            + ' to learn more about interactive tables.';\n",
              "          element.innerHTML = '';\n",
              "          dataTable['output_type'] = 'display_data';\n",
              "          await google.colab.output.renderOutput(dataTable, element);\n",
              "          const docLink = document.createElement('div');\n",
              "          docLink.innerHTML = docLinkHtml;\n",
              "          element.appendChild(docLink);\n",
              "        }\n",
              "      </script>\n",
              "    </div>\n",
              "  </div>\n",
              "  "
            ]
          },
          "metadata": {},
          "execution_count": 73
        }
      ],
      "source": [
        "samples = [0.2, 0.3, 0.4, 0.5, 0.6, 0.7, 0.8, 0.9, 1]  # sample sizes for data\n",
        "iterations = 100\n",
        "\n",
        "y = home_data_tranform['Department Rank']\n",
        "train_ratio = 0.75\n",
        "validation_ratio = 0.15\n",
        "test_ratio = 0.10\n",
        "\n",
        "num_classes = len(y.value_counts())  # number of BSR classes\n",
        "\n",
        "params = {\n",
        "    'objective' : 'multiclass',\n",
        "    'num_class' : num_classes,\n",
        "    'num_leaves' : num_classes,\n",
        "    'max_depth': 30,\n",
        "    'learning_rate' : 0.1,\n",
        "    # 'feature_fraction' : 0.6,\n",
        "    'verbosity' : -1\n",
        "}\n",
        "ave_accuracies = pd.DataFrame(columns=['Sample Size', 'num cats', 'Log Loss', 'Weighted Accuracy', 'Overall Accuracy', 'Per Category Accuracy', 'Cat 0', 'Cat 1', 'Cat 2', 'Cat 3', 'Cat 4', 'Cat 5']) # results df\n",
        "# ave_accuracies.columns = ['Columns Used', 'Overall Accuracy', 'Per Category Accuracy']\n",
        "for sample_size in samples:  # for each sample size\n",
        "  sample = home_data_tranform.sample(frac=sample_size)  # take random sample\n",
        "  x = sample.drop(columns = ['Department Rank'])\n",
        "  y = sample['Department Rank']\n",
        "\n",
        "  num_cats = len(y.value_counts())  # get number of BSR categories in sample\n",
        "  tot_accuracy_scores = zeros(num_cats)\n",
        "  tot_log_loss = 0\n",
        "  tot_weighted_accuracy = 0\n",
        "  for i in range(iterations):\n",
        "    # train is now 75% of the entire data set\n",
        "    train_x, test_x, train_y, test_y = train_test_split(x, y, test_size= (1 - train_ratio))\n",
        "\n",
        "    # test is now 10% of the initial data set\n",
        "    # validation is now 15% of the initial data set\n",
        "    valid_x, test_x, valid_y, test_y = train_test_split(test_x, test_y, test_size= test_ratio/(test_ratio + validation_ratio)) \n",
        "\n",
        "    # train_x, valid_x, train_y, valid_y = train_test_split(home_data_tranform.drop(columns = ['Department Rank']), y, test_size=0.2, shuffle=True, random_state=1)  # , stratify=y\n",
        "\n",
        "    # Create the LightGBM data containers\n",
        "    # Make sure that cat_features are used\n",
        "    train_data=lgb.Dataset(train_x,label=train_y, categorical_feature = cat_features)\n",
        "    valid_data=lgb.Dataset(valid_x,label=valid_y, categorical_feature = cat_features)\n",
        "\n",
        "    lgbm = lgb.train(params,\n",
        "          train_data,\n",
        "          2500,\n",
        "          valid_sets=valid_data,\n",
        "          early_stopping_rounds= 30,\n",
        "          # verbosity = -1\n",
        "          verbose_eval= -100\n",
        "          )\n",
        "\n",
        "    pred_y = lgbm.predict(test_x)\n",
        "    pred_y_vals = [np.argmax(line) for line in pred_y]  # ave ratings and sub-department removed and even splits on test set and listing age removed\n",
        "    accuracy = precision_score(pred_y_vals,test_y.values,average=None)\n",
        "    tot_accuracy_scores = tot_accuracy_scores + accuracy\n",
        "    log_loss_score = log_loss(test_y.values, pred_y, labels = [0, 1, 2, 3, 4, 5])\n",
        "    tot_log_loss = tot_log_loss + log_loss_score\n",
        "    weighted_accuracy = precision_score(pred_y_vals,test_y.values,average='weighted')\n",
        "    tot_weighted_accuracy = tot_weighted_accuracy + weighted_accuracy\n",
        "  ave_accuracy = tot_accuracy_scores/iterations\n",
        "  overall_accuracy = np.mean(ave_accuracy)\n",
        "  ave_log_loss = tot_log_loss/iterations\n",
        "  ave_weighted_accuracy = tot_weighted_accuracy/iterations\n",
        "  ave_accuracies.loc[len(ave_accuracies)] = {'Sample Size': sample_size, 'num cats': num_cats, 'Log Loss': ave_log_loss, 'Weighted Accuracy': ave_weighted_accuracy, 'Overall Accuracy': overall_accuracy, 'Per Category Accuracy': ave_accuracy,\n",
        "                                             'Cat 0':ave_accuracy[0], 'Cat 1':ave_accuracy[1], 'Cat 2':ave_accuracy[2], 'Cat 3':ave_accuracy[3], 'Cat 4':ave_accuracy[4], 'Cat 5':ave_accuracy[5]  }  # \n",
        "\n",
        "ave_accuracies"
      ]
    },
    {
      "cell_type": "code",
      "execution_count": null,
      "metadata": {
        "colab": {
          "base_uri": "https://localhost:8080/",
          "height": 460
        },
        "id": "SgWZ0yKc5NQ5",
        "outputId": "85b2f8f8-5385-49fd-d929-eaa88ac1833e"
      },
      "outputs": [
        {
          "data": {
            "image/png": "[encoded data removed]",
            "text/plain": [
              "<Figure size 640x480 with 1 Axes>"
            ]
          },
          "metadata": {},
          "output_type": "display_data"
        }
      ],
      "source": [
        "plt.plot(ave_accuracies['Sample Size'], ave_accuracies['Weighted Accuracy'])  # plot accuracy improvement curves\n",
        "plt.ylim([0, 1])\n",
        "plt.xlabel(\"Proportion of data set used\", fontsize=14)\n",
        "plt.ylabel(\"Accuracy\", fontsize=14)\n",
        "for cat in ['Cat 0', 'Cat 1', 'Cat 2', 'Cat 3', 'Cat 4', 'Cat 5', ]:\n",
        "  plt.plot(ave_accuracies['Sample Size'], ave_accuracies[cat])\n",
        "plt.plot(ave_accuracies['Sample Size'], np.ones(len(ave_accuracies))*1/6)\n",
        "plt.legend(['Weighted Mean'] + cats + ['Random Guessing'], loc = 'upper left', ncol=2, fontsize=10)\n",
        "plt.grid(which = 'major')"
      ]
    },
    {
      "cell_type": "markdown",
      "source": [
        " Implement User Listing Feedback Using Model"
      ],
      "metadata": {
        "id": "rVBz1zlTlMa1"
      }
    },
    {
      "cell_type": "code",
      "execution_count": null,
      "metadata": {
        "colab": {
          "base_uri": "https://localhost:8080/"
        },
        "id": "KODmxGBAnm-V",
        "outputId": "732c8f38-87d8-49ca-c4b6-c69ee20b4d5b"
      },
      "outputs": [
        {
          "output_type": "stream",
          "name": "stderr",
          "text": [
            "Converting data to scipy sparse matrix.\n"
          ]
        }
      ],
      "source": [
        "home_data_tranform_feats = home_data_tranform.drop(columns=['Department Rank']) # get features data\n",
        "n = 134\n",
        "test = home_data_tranform_feats.iloc[n]  # select random 'n' listing test\n",
        "\n",
        "# Predict a new value using lgbm for 'test'\n",
        "new_value = lgbm.predict(test)\n",
        "actual_value = home_data_tranform['Department Rank'][n]\n",
        "\n",
        "avg = home_data_tranform_feats.mean()  # average metrics from data\n",
        "top_100k_avg = home_data_tranform[home_data_tranform['Department Rank'] == 0].drop(columns=['Department Rank']).mean()  # average from best category\n",
        "min_val = home_data_tranform_feats.min()  # min from each data point\n",
        "max_val = home_data_tranform_feats.max()  # max from each data point\n",
        "test_norm = (test - min_val) / (max_val - min_val)  # normalise test listing data\n",
        "avg_norm = (avg - min_val) / (max_val - min_val)  # normalise ave data\n",
        "top_150k_avg_norm = (top_100k_avg - min_val) / (max_val - min_val)  # normalise best category ave data"
      ]
    },
    {
      "cell_type": "code",
      "execution_count": null,
      "metadata": {
        "id": "0Z7LHWaDXVOJ"
      },
      "outputs": [],
      "source": [
        "x_ticks = ['n Videos', 'Base Price', 'Rating', 'Description Score',  # define x labels for neater graph\n",
        "       'Normalised Deal \\n Saving', 'n Images',\n",
        "       'Mean An image \\n showing extra detail',\n",
        "       'Min An image \\n showing extra detail',\n",
        "       'Mean A best \\n selling amazon image',\n",
        "       'Max A best \\n selling amazon image']"
      ]
    },
    {
      "cell_type": "code",
      "execution_count": null,
      "metadata": {
        "colab": {
          "base_uri": "https://localhost:8080/",
          "height": 524
        },
        "id": "Ca_G-Yyns-Cd",
        "outputId": "7cb63dc6-4f90-41ce-8760-4a83b7a66850"
      },
      "outputs": [
        {
          "output_type": "display_data",
          "data": {
            "text/plain": [
              "<Figure size 640x480 with 1 Axes>"
            ],
            "image/png": "[encoded data removed]"
          },
          "metadata": {}
        },
        {
          "output_type": "stream",
          "name": "stdout",
          "text": [
            "Predicted Dep Rank: 1\n",
            "Actual Dep Rank: 1.0\n"
          ]
        }
      ],
      "source": [
        "fig, ax = plt.subplots()  # display test, average, and best category average data for user\n",
        "index = np.arange(len(test_norm.index))\n",
        "bar_width = 0.25\n",
        "opacity = 0.8\n",
        "\n",
        "test_plt = ax.bar(index, test_norm.values, bar_width,\n",
        "                alpha=opacity, color='b',\n",
        "                label='Test')\n",
        "\n",
        "avg_plt = ax.bar(index + bar_width, avg_norm.values, bar_width,\n",
        "                alpha=opacity, color='g',\n",
        "                label='Average')\n",
        "\n",
        "top_avg_plt = ax.bar(index + 2*bar_width, top_150k_avg_norm.values, bar_width,\n",
        "                alpha=opacity, color='r',\n",
        "                label='Top 150k Average')\n",
        "\n",
        "ax.set_xlabel('Features', fontsize=12)\n",
        "ax.set_ylabel('Normalized Values', fontsize=12)\n",
        "ax.set_title('Normalized Values by Feature')\n",
        "ax.set_xticks(index + bar_width)\n",
        "ax.set_xticklabels(x_ticks, rotation=90)\n",
        "ax.legend()\n",
        "\n",
        "plt.tight_layout()\n",
        "plt.show()\n",
        "print('Predicted Dep Rank: ' + str(new_value.argmax()))\n",
        "print('Actual Dep Rank: ' + str(actual_value))"
      ]
    },
    {
      "cell_type": "markdown",
      "source": [
        "Plot Importance of features in model"
      ],
      "metadata": {
        "id": "Klloht86mnA6"
      }
    },
    {
      "cell_type": "code",
      "execution_count": null,
      "metadata": {
        "id": "7aNYCmdesq96"
      },
      "outputs": [],
      "source": [
        "x_cols = ['n Videos', 'Base Price', 'Rating', 'Description Bin',\n",
        "       'Normalised Deal \\n Saving', 'n Images',\n",
        "       'Mean An image showing\\nextra detail',\n",
        "       'Min An image showing\\nextra detail', 'Mean A best selling \\n amazon image',\n",
        "       'Max A best selling\\n amazon image']"
      ]
    },
    {
      "cell_type": "code",
      "execution_count": null,
      "metadata": {
        "id": "iG80kgborkgx"
      },
      "outputs": [],
      "source": [
        "import matplotlib.pyplot as plt\n",
        "import seaborn as sns\n",
        "import warnings\n",
        "warnings.simplefilter(action='ignore', category=FutureWarning)\n",
        "\n",
        "def plotImp(model, X , num = 20, fig_size = (8, 7)):\n",
        "    feature_imp = pd.DataFrame({'Feature Importance (Gain)':model.feature_importance(importance_type = 'gain'),'Feature':x_cols})  # get feature importances in gain\n",
        "    plt.figure(figsize=fig_size)\n",
        "    sns.set(font_scale = 1.2)\n",
        "    sns.barplot(y=\"Feature Importance (Gain)\", x=\"Feature\", data=feature_imp.sort_values(by=\"Feature Importance (Gain)\", \n",
        "                                                        ascending=False)[0:num])\n",
        "    # plt.title('Weight of Features in Model')\n",
        "    plt.xticks(rotation=90)\n",
        "    plt.tight_layout()\n",
        "    plt.savefig('lgbm_importances-01.png')\n",
        "    plt.show()"
      ]
    },
    {
      "cell_type": "code",
      "execution_count": null,
      "metadata": {
        "colab": {
          "base_uri": "https://localhost:8080/",
          "height": 693
        },
        "id": "weYwFqvnrpJF",
        "outputId": "460b4494-7d85-49ac-e970-b88a92122932"
      },
      "outputs": [
        {
          "output_type": "display_data",
          "data": {
            "text/plain": [
              "<Figure size 800x700 with 1 Axes>"
            ],
            "image/png": "[encoded data removed]"
          },
          "metadata": {}
        }
      ],
      "source": [
        "plotImp(lgbm, x)"
      ]
    }
  ],
  "metadata": {
    "colab": {
      "provenance": [],
      "authorship_tag": "ABX9TyNkjgNyaVWk3lFg4mnenGid",
      "include_colab_link": true
    },
    "kernelspec": {
      "display_name": "Python 3",
      "name": "python3"
    },
    "language_info": {
      "name": "python"
    }
  },
  "nbformat": 4,
  "nbformat_minor": 0
}